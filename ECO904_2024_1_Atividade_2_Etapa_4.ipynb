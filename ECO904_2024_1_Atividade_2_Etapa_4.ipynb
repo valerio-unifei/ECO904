{
  "nbformat": 4,
  "nbformat_minor": 0,
  "metadata": {
    "colab": {
      "provenance": [],
      "authorship_tag": "ABX9TyPq6F/MH2g0j3qKaxWxEayX",
      "include_colab_link": true
    },
    "kernelspec": {
      "name": "python3",
      "display_name": "Python 3"
    },
    "language_info": {
      "name": "python"
    }
  },
  "cells": [
    {
      "cell_type": "markdown",
      "metadata": {
        "id": "view-in-github",
        "colab_type": "text"
      },
      "source": [
        "<a href=\"https://colab.research.google.com/github/valerio-unifei/ECO904/blob/main/ECO904_2024_1_Atividade_2_Etapa_4.ipynb\" target=\"_parent\"><img src=\"https://colab.research.google.com/assets/colab-badge.svg\" alt=\"Open In Colab\"/></a>"
      ]
    },
    {
      "cell_type": "markdown",
      "source": [
        "# Atividade 2 - Etapa 4"
      ],
      "metadata": {
        "id": "HISHes1ocJeQ"
      }
    },
    {
      "cell_type": "markdown",
      "source": [
        "[Proposta](https://docs.google.com/document/d/e/2PACX-1vTvlDZCbl8BtQfBQ3a0CPt_KDnxzQx_8E18iJMJxZ5R05cgX18hx0R8iwd5g3didFwDUHpJRRkqqQqs/pub)\n",
        "\n",
        "Utilizando plataforma embarcada:\n",
        "- https://studio.edgeimpulse.com/\n",
        "- Device: Celular\n",
        "- Avaliar modelo gerado.\n",
        "- Gerar Notebook Python com teste do modelo."
      ],
      "metadata": {
        "id": "5OVPpktdcc9I"
      }
    },
    {
      "cell_type": "markdown",
      "source": [
        "## Edge Impulse"
      ],
      "metadata": {
        "id": "scBD3cTqGsCy"
      }
    },
    {
      "cell_type": "code",
      "source": [
        "!pip install edgeimpulse -q"
      ],
      "metadata": {
        "colab": {
          "base_uri": "https://localhost:8080/"
        },
        "id": "xSyvwzOMNr_p",
        "outputId": "ae10a18d-bcfa-4ed7-ea99-6f6d8e9de6e9"
      },
      "execution_count": null,
      "outputs": [
        {
          "output_type": "stream",
          "name": "stdout",
          "text": [
            "\u001b[2K     \u001b[90m━━━━━━━━━━━━━━━━━━━━━━━━━━━━━━━━━━━━━━━━\u001b[0m \u001b[32m57.6/57.6 kB\u001b[0m \u001b[31m1.4 MB/s\u001b[0m eta \u001b[36m0:00:00\u001b[0m\n",
            "\u001b[2K     \u001b[90m━━━━━━━━━━━━━━━━━━━━━━━━━━━━━━━━━━━━━━━━\u001b[0m \u001b[32m1.3/1.3 MB\u001b[0m \u001b[31m6.6 MB/s\u001b[0m eta \u001b[36m0:00:00\u001b[0m\n",
            "\u001b[2K     \u001b[90m━━━━━━━━━━━━━━━━━━━━━━━━━━━━━━━━━━━━━━━━\u001b[0m \u001b[32m75.7/75.7 kB\u001b[0m \u001b[31m5.0 MB/s\u001b[0m eta \u001b[36m0:00:00\u001b[0m\n",
            "\u001b[2K     \u001b[90m━━━━━━━━━━━━━━━━━━━━━━━━━━━━━━━━━━━━━━━━\u001b[0m \u001b[32m137.6/137.6 kB\u001b[0m \u001b[31m6.7 MB/s\u001b[0m eta \u001b[36m0:00:00\u001b[0m\n",
            "\u001b[2K     \u001b[90m━━━━━━━━━━━━━━━━━━━━━━━━━━━━━━━━━━━━━━━━\u001b[0m \u001b[32m3.1/3.1 MB\u001b[0m \u001b[31m18.8 MB/s\u001b[0m eta \u001b[36m0:00:00\u001b[0m\n",
            "\u001b[2K     \u001b[90m━━━━━━━━━━━━━━━━━━━━━━━━━━━━━━━━━━━━━━━━\u001b[0m \u001b[32m143.8/143.8 kB\u001b[0m \u001b[31m12.0 MB/s\u001b[0m eta \u001b[36m0:00:00\u001b[0m\n",
            "\u001b[2K     \u001b[90m━━━━━━━━━━━━━━━━━━━━━━━━━━━━━━━━━━━━━━━━\u001b[0m \u001b[32m57.7/57.7 kB\u001b[0m \u001b[31m3.1 MB/s\u001b[0m eta \u001b[36m0:00:00\u001b[0m\n",
            "\u001b[2K     \u001b[90m━━━━━━━━━━━━━━━━━━━━━━━━━━━━━━━━━━━━━━━━\u001b[0m \u001b[32m58.3/58.3 kB\u001b[0m \u001b[31m2.9 MB/s\u001b[0m eta \u001b[36m0:00:00\u001b[0m\n",
            "\u001b[?25h"
          ]
        }
      ]
    },
    {
      "cell_type": "markdown",
      "source": [
        "## Informações do Modelo"
      ],
      "metadata": {
        "id": "iN0Gs3q8Ntaf"
      }
    },
    {
      "cell_type": "code",
      "source": [
        "import edgeimpulse as ei\n",
        "from google.colab import userdata\n",
        "\n",
        "ei.API_KEY = userdata.get('ei_key')\n",
        "ei.model.list_profile_devices()"
      ],
      "metadata": {
        "colab": {
          "base_uri": "https://localhost:8080/"
        },
        "id": "iczVvEDxNtHX",
        "outputId": "a6e8d0e7-76f1-4cc1-e9be-9062caa4a01f"
      },
      "execution_count": null,
      "outputs": [
        {
          "output_type": "execute_result",
          "data": {
            "text/plain": [
              "['alif-he',\n",
              " 'alif-hp',\n",
              " 'arduino-nano-33-ble',\n",
              " 'arduino-nicla-vision',\n",
              " 'arduino-nicla-vision-m4',\n",
              " 'portenta-h7',\n",
              " 'brainchip-akd1000',\n",
              " 'brickml',\n",
              " 'cortex-m4f-80mhz',\n",
              " 'cortex-m7-216mhz',\n",
              " 'espressif-esp32',\n",
              " 'himax-we-i',\n",
              " 'infineon-cy8ckit-062s2',\n",
              " 'infineon-cy8ckit-062-ble',\n",
              " 'mbp-16-2020',\n",
              " 'memryx-mx3',\n",
              " 'nordic-nrf52840-dk',\n",
              " 'nordic-nrf5340-dk',\n",
              " 'nordic-nrf9160-dk',\n",
              " 'jetson-nano',\n",
              " 'jetson-orin-nx',\n",
              " 'jetson-orin-nano',\n",
              " 'openmv-h7p',\n",
              " 'particle-boron',\n",
              " 'particle-p2',\n",
              " 'raspberry-pi-4',\n",
              " 'raspberry-pi-rp2040',\n",
              " 'renesas-ck-ra6m5',\n",
              " 'renesas-ek-ra8d1',\n",
              " 'renesas-rzg2l',\n",
              " 'renesas-rzv2l-cpu',\n",
              " 'renesas-rzv2l',\n",
              " 'st-iot-discovery-kit',\n",
              " 'seeed-sense-cap',\n",
              " 'wio-terminal',\n",
              " 'seeed-vision-ai',\n",
              " 'silabs-xg24',\n",
              " 'silabs-thunderboard-sense-2',\n",
              " 'sony-spresense',\n",
              " 'synaptics-ka10000',\n",
              " 'ti-am62a',\n",
              " 'ti-am68a',\n",
              " 'ti-launchxl',\n",
              " 'ti-tda4vm',\n",
              " 'neox']"
            ]
          },
          "metadata": {},
          "execution_count": 3
        }
      ]
    },
    {
      "cell_type": "code",
      "source": [
        "ei.model.list_deployment_targets()"
      ],
      "metadata": {
        "colab": {
          "base_uri": "https://localhost:8080/"
        },
        "id": "mXfwmAWWQdVA",
        "outputId": "1e1fcf93-f2b9-450f-814f-b48f1e60b1c2"
      },
      "execution_count": null,
      "outputs": [
        {
          "output_type": "execute_result",
          "data": {
            "text/plain": [
              "['zip',\n",
              " 'arduino',\n",
              " 'cubemx',\n",
              " 'wasm',\n",
              " 'wasm-browser-simd',\n",
              " 'wasm-node-simd',\n",
              " 'tensorrt',\n",
              " 'ethos',\n",
              " 'ethos-cmsis-pack',\n",
              " 'synaptics-tensaiflow-lib',\n",
              " 'drp-ai-lib',\n",
              " 'meta-tf',\n",
              " 'tidl-lib',\n",
              " 'memryx-dfp',\n",
              " 'tidl-lib-am62a',\n",
              " 'tidl-lib-am68a',\n",
              " 'slcc',\n",
              " 'arduino-nano-33-ble-sense',\n",
              " 'arduino-nicla-vision',\n",
              " 'runner-linux-aarch64-advantech-icam540',\n",
              " 'espressif-esp32',\n",
              " 'arduino-portenta-h7',\n",
              " 'silabs-xg24',\n",
              " 'himax-we-i',\n",
              " 'openmv',\n",
              " 'openmv-fw',\n",
              " 'sony-spresense',\n",
              " 'sony-spresense-commonsense',\n",
              " 'synaptics-ka10000',\n",
              " 'renesas-ek-ra8d1',\n",
              " 'alif-ensemble-e7',\n",
              " 'seeed-grove-vision-ai',\n",
              " 'seeed-sensecap',\n",
              " 'runner-linux-aarch64',\n",
              " 'runner-linux-armv7',\n",
              " 'runner-linux-x86_64',\n",
              " 'runner-linux-aarch64-akd1000',\n",
              " 'runner-linux-x86_64-akd1000',\n",
              " 'runner-linux-x86_64-memryx-mx3',\n",
              " 'runner-mac-x86_64',\n",
              " 'runner-linux-aarch64-rzv2l',\n",
              " 'runner-linux-aarch64-tda4vm',\n",
              " 'runner-linux-aarch64-am62a',\n",
              " 'particle',\n",
              " 'iar',\n",
              " 'runner-linux-aarch64-am68a',\n",
              " 'cmsis-package',\n",
              " 'runner-linux-aarch64-jetson-nano',\n",
              " 'runner-linux-aarch64-jetson-orin']"
            ]
          },
          "metadata": {},
          "execution_count": 5
        }
      ]
    },
    {
      "cell_type": "code",
      "source": [
        "ei.model.list_engines()"
      ],
      "metadata": {
        "colab": {
          "base_uri": "https://localhost:8080/"
        },
        "id": "TJXB0lzrQ5gY",
        "outputId": "02d7cafb-d24a-443a-ed38-2f7f4525d358"
      },
      "execution_count": null,
      "outputs": [
        {
          "output_type": "execute_result",
          "data": {
            "text/plain": [
              "['tflite',\n",
              " 'tflite-eon',\n",
              " 'tflite-eon-ram-optimized',\n",
              " 'tensorrt',\n",
              " 'tensaiflow',\n",
              " 'drp-ai',\n",
              " 'tidl',\n",
              " 'akida',\n",
              " 'syntiant',\n",
              " 'memryx',\n",
              " 'neox']"
            ]
          },
          "metadata": {},
          "execution_count": 6
        }
      ]
    },
    {
      "cell_type": "code",
      "source": [
        "ei.model.list_model_types()"
      ],
      "metadata": {
        "colab": {
          "base_uri": "https://localhost:8080/"
        },
        "id": "O-rK0K1JRClI",
        "outputId": "ee10f6cd-144f-4c35-a929-a86859e46090"
      },
      "execution_count": null,
      "outputs": [
        {
          "output_type": "execute_result",
          "data": {
            "text/plain": [
              "['int8', 'float32', 'akida', 'requiresRetrain']"
            ]
          },
          "metadata": {},
          "execution_count": 7
        }
      ]
    },
    {
      "cell_type": "code",
      "source": [
        "ei.model.__dict__"
      ],
      "metadata": {
        "colab": {
          "base_uri": "https://localhost:8080/"
        },
        "id": "j150lbOCRFlq",
        "outputId": "63e510c7-a0f3-47d6-84da-d811bee7a467"
      },
      "execution_count": null,
      "outputs": [
        {
          "output_type": "execute_result",
          "data": {
            "text/plain": [
              "{'__name__': 'edgeimpulse.model',\n",
              " '__doc__': 'Use this module to profile, and deploy your edge models.',\n",
              " '__package__': 'edgeimpulse.model',\n",
              " '__loader__': <_frozen_importlib_external.SourceFileLoader at 0x7d5fd7497220>,\n",
              " '__spec__': ModuleSpec(name='edgeimpulse.model', loader=<_frozen_importlib_external.SourceFileLoader object at 0x7d5fd7497220>, origin='/usr/local/lib/python3.10/dist-packages/edgeimpulse/model/__init__.py', submodule_search_locations=['/usr/local/lib/python3.10/dist-packages/edgeimpulse/model']),\n",
              " '__path__': ['/usr/local/lib/python3.10/dist-packages/edgeimpulse/model'],\n",
              " '__file__': '/usr/local/lib/python3.10/dist-packages/edgeimpulse/model/__init__.py',\n",
              " '__cached__': '/usr/local/lib/python3.10/dist-packages/edgeimpulse/model/__pycache__/__init__.cpython-310.pyc',\n",
              " '__builtins__': {'__name__': 'builtins',\n",
              "  '__doc__': \"Built-in functions, exceptions, and other objects.\\n\\nNoteworthy: None is the `nil' object; Ellipsis represents `...' in slices.\",\n",
              "  '__package__': '',\n",
              "  '__loader__': _frozen_importlib.BuiltinImporter,\n",
              "  '__spec__': ModuleSpec(name='builtins', loader=<class '_frozen_importlib.BuiltinImporter'>, origin='built-in'),\n",
              "  '__build_class__': <function __build_class__>,\n",
              "  '__import__': <function __import__>,\n",
              "  'abs': <function abs(x, /)>,\n",
              "  'all': <function all(iterable, /)>,\n",
              "  'any': <function any(iterable, /)>,\n",
              "  'ascii': <function ascii(obj, /)>,\n",
              "  'bin': <function bin(number, /)>,\n",
              "  'breakpoint': <function breakpoint>,\n",
              "  'callable': <function callable(obj, /)>,\n",
              "  'chr': <function chr(i, /)>,\n",
              "  'compile': <function compile(source, filename, mode, flags=0, dont_inherit=False, optimize=-1, *, _feature_version=-1)>,\n",
              "  'delattr': <function delattr(obj, name, /)>,\n",
              "  'dir': <function dir>,\n",
              "  'divmod': <function divmod(x, y, /)>,\n",
              "  'eval': <function eval(source, globals=None, locals=None, /)>,\n",
              "  'exec': <function exec(source, globals=None, locals=None, /)>,\n",
              "  'format': <function format(value, format_spec='', /)>,\n",
              "  'getattr': <function getattr>,\n",
              "  'globals': <function globals()>,\n",
              "  'hasattr': <function hasattr(obj, name, /)>,\n",
              "  'hash': <function hash(obj, /)>,\n",
              "  'hex': <function hex(number, /)>,\n",
              "  'id': <function id(obj, /)>,\n",
              "  'input': <bound method Kernel.raw_input of <google.colab._kernel.Kernel object at 0x7d5fe882dde0>>,\n",
              "  'isinstance': <function isinstance(obj, class_or_tuple, /)>,\n",
              "  'issubclass': <function issubclass(cls, class_or_tuple, /)>,\n",
              "  'iter': <function iter>,\n",
              "  'aiter': <function aiter(async_iterable, /)>,\n",
              "  'len': <function len(obj, /)>,\n",
              "  'locals': <function locals()>,\n",
              "  'max': <function max>,\n",
              "  'min': <function min>,\n",
              "  'next': <function next>,\n",
              "  'anext': <function anext>,\n",
              "  'oct': <function oct(number, /)>,\n",
              "  'ord': <function ord(c, /)>,\n",
              "  'pow': <function pow(base, exp, mod=None)>,\n",
              "  'print': <function print>,\n",
              "  'repr': <function repr(obj, /)>,\n",
              "  'round': <function round(number, ndigits=None)>,\n",
              "  'setattr': <function setattr(obj, name, value, /)>,\n",
              "  'sorted': <function sorted(iterable, /, *, key=None, reverse=False)>,\n",
              "  'sum': <function sum(iterable, /, start=0)>,\n",
              "  'vars': <function vars>,\n",
              "  'None': None,\n",
              "  'Ellipsis': Ellipsis,\n",
              "  'NotImplemented': NotImplemented,\n",
              "  'False': False,\n",
              "  'True': True,\n",
              "  'bool': bool,\n",
              "  'memoryview': memoryview,\n",
              "  'bytearray': bytearray,\n",
              "  'bytes': bytes,\n",
              "  'classmethod': classmethod,\n",
              "  'complex': complex,\n",
              "  'dict': dict,\n",
              "  'enumerate': enumerate,\n",
              "  'filter': filter,\n",
              "  'float': float,\n",
              "  'frozenset': frozenset,\n",
              "  'property': property,\n",
              "  'int': int,\n",
              "  'list': list,\n",
              "  'map': map,\n",
              "  'object': object,\n",
              "  'range': range,\n",
              "  'reversed': reversed,\n",
              "  'set': set,\n",
              "  'slice': slice,\n",
              "  'staticmethod': staticmethod,\n",
              "  'str': str,\n",
              "  'super': super,\n",
              "  'tuple': tuple,\n",
              "  'type': type,\n",
              "  'zip': zip,\n",
              "  '__debug__': True,\n",
              "  'BaseException': BaseException,\n",
              "  'Exception': Exception,\n",
              "  'TypeError': TypeError,\n",
              "  'StopAsyncIteration': StopAsyncIteration,\n",
              "  'StopIteration': StopIteration,\n",
              "  'GeneratorExit': GeneratorExit,\n",
              "  'SystemExit': SystemExit,\n",
              "  'KeyboardInterrupt': KeyboardInterrupt,\n",
              "  'ImportError': ImportError,\n",
              "  'ModuleNotFoundError': ModuleNotFoundError,\n",
              "  'OSError': OSError,\n",
              "  'EnvironmentError': OSError,\n",
              "  'IOError': OSError,\n",
              "  'EOFError': EOFError,\n",
              "  'RuntimeError': RuntimeError,\n",
              "  'RecursionError': RecursionError,\n",
              "  'NotImplementedError': NotImplementedError,\n",
              "  'NameError': NameError,\n",
              "  'UnboundLocalError': UnboundLocalError,\n",
              "  'AttributeError': AttributeError,\n",
              "  'SyntaxError': SyntaxError,\n",
              "  'IndentationError': IndentationError,\n",
              "  'TabError': TabError,\n",
              "  'LookupError': LookupError,\n",
              "  'IndexError': IndexError,\n",
              "  'KeyError': KeyError,\n",
              "  'ValueError': ValueError,\n",
              "  'UnicodeError': UnicodeError,\n",
              "  'UnicodeEncodeError': UnicodeEncodeError,\n",
              "  'UnicodeDecodeError': UnicodeDecodeError,\n",
              "  'UnicodeTranslateError': UnicodeTranslateError,\n",
              "  'AssertionError': AssertionError,\n",
              "  'ArithmeticError': ArithmeticError,\n",
              "  'FloatingPointError': FloatingPointError,\n",
              "  'OverflowError': OverflowError,\n",
              "  'ZeroDivisionError': ZeroDivisionError,\n",
              "  'SystemError': SystemError,\n",
              "  'ReferenceError': ReferenceError,\n",
              "  'MemoryError': MemoryError,\n",
              "  'BufferError': BufferError,\n",
              "  'Warning': Warning,\n",
              "  'UserWarning': UserWarning,\n",
              "  'EncodingWarning': EncodingWarning,\n",
              "  'DeprecationWarning': DeprecationWarning,\n",
              "  'PendingDeprecationWarning': PendingDeprecationWarning,\n",
              "  'SyntaxWarning': SyntaxWarning,\n",
              "  'RuntimeWarning': RuntimeWarning,\n",
              "  'FutureWarning': FutureWarning,\n",
              "  'ImportWarning': ImportWarning,\n",
              "  'UnicodeWarning': UnicodeWarning,\n",
              "  'BytesWarning': BytesWarning,\n",
              "  'ResourceWarning': ResourceWarning,\n",
              "  'ConnectionError': ConnectionError,\n",
              "  'BlockingIOError': BlockingIOError,\n",
              "  'BrokenPipeError': BrokenPipeError,\n",
              "  'ChildProcessError': ChildProcessError,\n",
              "  'ConnectionAbortedError': ConnectionAbortedError,\n",
              "  'ConnectionRefusedError': ConnectionRefusedError,\n",
              "  'ConnectionResetError': ConnectionResetError,\n",
              "  'FileExistsError': FileExistsError,\n",
              "  'FileNotFoundError': FileNotFoundError,\n",
              "  'IsADirectoryError': IsADirectoryError,\n",
              "  'NotADirectoryError': NotADirectoryError,\n",
              "  'InterruptedError': InterruptedError,\n",
              "  'PermissionError': PermissionError,\n",
              "  'ProcessLookupError': ProcessLookupError,\n",
              "  'TimeoutError': TimeoutError,\n",
              "  'open': <function io.open(file, mode='r', buffering=-1, encoding=None, errors=None, newline=None, closefd=True, opener=None)>,\n",
              "  'copyright': Copyright (c) 2001-2023 Python Software Foundation.\n",
              "  All Rights Reserved.\n",
              "  \n",
              "  Copyright (c) 2000 BeOpen.com.\n",
              "  All Rights Reserved.\n",
              "  \n",
              "  Copyright (c) 1995-2001 Corporation for National Research Initiatives.\n",
              "  All Rights Reserved.\n",
              "  \n",
              "  Copyright (c) 1991-1995 Stichting Mathematisch Centrum, Amsterdam.\n",
              "  All Rights Reserved.,\n",
              "  'credits':     Thanks to CWI, CNRI, BeOpen.com, Zope Corporation and a cast of thousands\n",
              "      for supporting Python development.  See www.python.org for more information.,\n",
              "  'license': Type license() to see the full license text,\n",
              "  'help': Type help() for interactive help, or help(object) for help about object.,\n",
              "  '__IPYTHON__': True,\n",
              "  'display': <function IPython.core.display.display(*objs, include=None, exclude=None, metadata=None, transient=None, display_id=None, **kwargs)>,\n",
              "  'execfile': <function _pydev_bundle._pydev_execfile.execfile(file, glob=None, loc=None)>,\n",
              "  'runfile': <function _pydev_bundle.pydev_umd.runfile(filename, args=None, wdir=None, namespace=None)>,\n",
              "  'get_ipython': <bound method InteractiveShell.get_ipython of <google.colab._shell.Shell object at 0x7d5fe882de70>>},\n",
              " '__all__': ['profile',\n",
              "  'list_profile_devices',\n",
              "  'deploy',\n",
              "  'list_engines',\n",
              "  'list_model_types',\n",
              "  'list_deployment_targets'],\n",
              " '_functions': <module 'edgeimpulse.model._functions' from '/usr/local/lib/python3.10/dist-packages/edgeimpulse/model/_functions/__init__.py'>,\n",
              " 'profile': <function edgeimpulse.model._functions.profile.profile(model: Union[pathlib.Path, str, bytes, Any], device: Optional[str] = None, api_key: Optional[str] = None, timeout_sec: Optional[float] = None) -> edgeimpulse.model._functions.profile.ProfileResponse>,\n",
              " 'list_profile_devices': <function edgeimpulse.model._functions.profile.list_profile_devices(api_key: Optional[str] = None) -> List[str]>,\n",
              " 'output_type': <module 'edgeimpulse.model.output_type' from '/usr/local/lib/python3.10/dist-packages/edgeimpulse/model/output_type.py'>,\n",
              " 'input_type': <module 'edgeimpulse.model.input_type' from '/usr/local/lib/python3.10/dist-packages/edgeimpulse/model/input_type.py'>,\n",
              " 'deploy': <function edgeimpulse.model._functions.deploy.deploy(model: Union[pathlib.Path, str, bytes, Any], model_output_type: Union[edgeimpulse.model.output_type.Classification, edgeimpulse.model.output_type.Regression, edgeimpulse.model.output_type.ObjectDetection], model_input_type: Union[edgeimpulse.model.input_type.ImageInput, edgeimpulse.model.input_type.AudioInput, edgeimpulse.model.input_type.TimeSeriesInput, edgeimpulse.model.input_type.OtherInput, NoneType] = None, representative_data_for_quantization: Union[pathlib.Path, str, bytes, Any, NoneType] = None, deploy_model_type: Optional[str] = None, engine: str = 'tflite', deploy_target: str = 'zip', output_directory: Optional[str] = None, api_key: Optional[str] = None, timeout_sec: Optional[float] = None) -> _io.BytesIO>,\n",
              " 'list_engines': <function edgeimpulse.model._functions.deploy.list_engines() -> List[str]>,\n",
              " 'list_model_types': <function edgeimpulse.model._functions.deploy.list_model_types() -> List[str]>,\n",
              " 'list_deployment_targets': <function edgeimpulse.model._functions.deploy.list_deployment_targets(api_key: Optional[str] = None) -> List[str]>,\n",
              " '__annotations__': {}}"
            ]
          },
          "metadata": {},
          "execution_count": 8
        }
      ]
    },
    {
      "cell_type": "code",
      "source": [
        "ei.model.output_type.__dict__"
      ],
      "metadata": {
        "colab": {
          "base_uri": "https://localhost:8080/"
        },
        "id": "-wb6XUwrR-EI",
        "outputId": "8f32be62-4590-4df5-f69f-6a5660311925"
      },
      "execution_count": null,
      "outputs": [
        {
          "output_type": "execute_result",
          "data": {
            "text/plain": [
              "{'__name__': 'edgeimpulse.model.output_type',\n",
              " '__doc__': None,\n",
              " '__package__': 'edgeimpulse.model',\n",
              " '__loader__': <_frozen_importlib_external.SourceFileLoader at 0x7d5faa427850>,\n",
              " '__spec__': ModuleSpec(name='edgeimpulse.model.output_type', loader=<_frozen_importlib_external.SourceFileLoader object at 0x7d5faa427850>, origin='/usr/local/lib/python3.10/dist-packages/edgeimpulse/model/output_type.py'),\n",
              " '__file__': '/usr/local/lib/python3.10/dist-packages/edgeimpulse/model/output_type.py',\n",
              " '__cached__': '/usr/local/lib/python3.10/dist-packages/edgeimpulse/model/__pycache__/output_type.cpython-310.pyc',\n",
              " '__builtins__': {'__name__': 'builtins',\n",
              "  '__doc__': \"Built-in functions, exceptions, and other objects.\\n\\nNoteworthy: None is the `nil' object; Ellipsis represents `...' in slices.\",\n",
              "  '__package__': '',\n",
              "  '__loader__': _frozen_importlib.BuiltinImporter,\n",
              "  '__spec__': ModuleSpec(name='builtins', loader=<class '_frozen_importlib.BuiltinImporter'>, origin='built-in'),\n",
              "  '__build_class__': <function __build_class__>,\n",
              "  '__import__': <function __import__>,\n",
              "  'abs': <function abs(x, /)>,\n",
              "  'all': <function all(iterable, /)>,\n",
              "  'any': <function any(iterable, /)>,\n",
              "  'ascii': <function ascii(obj, /)>,\n",
              "  'bin': <function bin(number, /)>,\n",
              "  'breakpoint': <function breakpoint>,\n",
              "  'callable': <function callable(obj, /)>,\n",
              "  'chr': <function chr(i, /)>,\n",
              "  'compile': <function compile(source, filename, mode, flags=0, dont_inherit=False, optimize=-1, *, _feature_version=-1)>,\n",
              "  'delattr': <function delattr(obj, name, /)>,\n",
              "  'dir': <function dir>,\n",
              "  'divmod': <function divmod(x, y, /)>,\n",
              "  'eval': <function eval(source, globals=None, locals=None, /)>,\n",
              "  'exec': <function exec(source, globals=None, locals=None, /)>,\n",
              "  'format': <function format(value, format_spec='', /)>,\n",
              "  'getattr': <function getattr>,\n",
              "  'globals': <function globals()>,\n",
              "  'hasattr': <function hasattr(obj, name, /)>,\n",
              "  'hash': <function hash(obj, /)>,\n",
              "  'hex': <function hex(number, /)>,\n",
              "  'id': <function id(obj, /)>,\n",
              "  'input': <bound method Kernel.raw_input of <google.colab._kernel.Kernel object at 0x7d5fe882dde0>>,\n",
              "  'isinstance': <function isinstance(obj, class_or_tuple, /)>,\n",
              "  'issubclass': <function issubclass(cls, class_or_tuple, /)>,\n",
              "  'iter': <function iter>,\n",
              "  'aiter': <function aiter(async_iterable, /)>,\n",
              "  'len': <function len(obj, /)>,\n",
              "  'locals': <function locals()>,\n",
              "  'max': <function max>,\n",
              "  'min': <function min>,\n",
              "  'next': <function next>,\n",
              "  'anext': <function anext>,\n",
              "  'oct': <function oct(number, /)>,\n",
              "  'ord': <function ord(c, /)>,\n",
              "  'pow': <function pow(base, exp, mod=None)>,\n",
              "  'print': <function print>,\n",
              "  'repr': <function repr(obj, /)>,\n",
              "  'round': <function round(number, ndigits=None)>,\n",
              "  'setattr': <function setattr(obj, name, value, /)>,\n",
              "  'sorted': <function sorted(iterable, /, *, key=None, reverse=False)>,\n",
              "  'sum': <function sum(iterable, /, start=0)>,\n",
              "  'vars': <function vars>,\n",
              "  'None': None,\n",
              "  'Ellipsis': Ellipsis,\n",
              "  'NotImplemented': NotImplemented,\n",
              "  'False': False,\n",
              "  'True': True,\n",
              "  'bool': bool,\n",
              "  'memoryview': memoryview,\n",
              "  'bytearray': bytearray,\n",
              "  'bytes': bytes,\n",
              "  'classmethod': classmethod,\n",
              "  'complex': complex,\n",
              "  'dict': dict,\n",
              "  'enumerate': enumerate,\n",
              "  'filter': filter,\n",
              "  'float': float,\n",
              "  'frozenset': frozenset,\n",
              "  'property': property,\n",
              "  'int': int,\n",
              "  'list': list,\n",
              "  'map': map,\n",
              "  'object': object,\n",
              "  'range': range,\n",
              "  'reversed': reversed,\n",
              "  'set': set,\n",
              "  'slice': slice,\n",
              "  'staticmethod': staticmethod,\n",
              "  'str': str,\n",
              "  'super': super,\n",
              "  'tuple': tuple,\n",
              "  'type': type,\n",
              "  'zip': zip,\n",
              "  '__debug__': True,\n",
              "  'BaseException': BaseException,\n",
              "  'Exception': Exception,\n",
              "  'TypeError': TypeError,\n",
              "  'StopAsyncIteration': StopAsyncIteration,\n",
              "  'StopIteration': StopIteration,\n",
              "  'GeneratorExit': GeneratorExit,\n",
              "  'SystemExit': SystemExit,\n",
              "  'KeyboardInterrupt': KeyboardInterrupt,\n",
              "  'ImportError': ImportError,\n",
              "  'ModuleNotFoundError': ModuleNotFoundError,\n",
              "  'OSError': OSError,\n",
              "  'EnvironmentError': OSError,\n",
              "  'IOError': OSError,\n",
              "  'EOFError': EOFError,\n",
              "  'RuntimeError': RuntimeError,\n",
              "  'RecursionError': RecursionError,\n",
              "  'NotImplementedError': NotImplementedError,\n",
              "  'NameError': NameError,\n",
              "  'UnboundLocalError': UnboundLocalError,\n",
              "  'AttributeError': AttributeError,\n",
              "  'SyntaxError': SyntaxError,\n",
              "  'IndentationError': IndentationError,\n",
              "  'TabError': TabError,\n",
              "  'LookupError': LookupError,\n",
              "  'IndexError': IndexError,\n",
              "  'KeyError': KeyError,\n",
              "  'ValueError': ValueError,\n",
              "  'UnicodeError': UnicodeError,\n",
              "  'UnicodeEncodeError': UnicodeEncodeError,\n",
              "  'UnicodeDecodeError': UnicodeDecodeError,\n",
              "  'UnicodeTranslateError': UnicodeTranslateError,\n",
              "  'AssertionError': AssertionError,\n",
              "  'ArithmeticError': ArithmeticError,\n",
              "  'FloatingPointError': FloatingPointError,\n",
              "  'OverflowError': OverflowError,\n",
              "  'ZeroDivisionError': ZeroDivisionError,\n",
              "  'SystemError': SystemError,\n",
              "  'ReferenceError': ReferenceError,\n",
              "  'MemoryError': MemoryError,\n",
              "  'BufferError': BufferError,\n",
              "  'Warning': Warning,\n",
              "  'UserWarning': UserWarning,\n",
              "  'EncodingWarning': EncodingWarning,\n",
              "  'DeprecationWarning': DeprecationWarning,\n",
              "  'PendingDeprecationWarning': PendingDeprecationWarning,\n",
              "  'SyntaxWarning': SyntaxWarning,\n",
              "  'RuntimeWarning': RuntimeWarning,\n",
              "  'FutureWarning': FutureWarning,\n",
              "  'ImportWarning': ImportWarning,\n",
              "  'UnicodeWarning': UnicodeWarning,\n",
              "  'BytesWarning': BytesWarning,\n",
              "  'ResourceWarning': ResourceWarning,\n",
              "  'ConnectionError': ConnectionError,\n",
              "  'BlockingIOError': BlockingIOError,\n",
              "  'BrokenPipeError': BrokenPipeError,\n",
              "  'ChildProcessError': ChildProcessError,\n",
              "  'ConnectionAbortedError': ConnectionAbortedError,\n",
              "  'ConnectionRefusedError': ConnectionRefusedError,\n",
              "  'ConnectionResetError': ConnectionResetError,\n",
              "  'FileExistsError': FileExistsError,\n",
              "  'FileNotFoundError': FileNotFoundError,\n",
              "  'IsADirectoryError': IsADirectoryError,\n",
              "  'NotADirectoryError': NotADirectoryError,\n",
              "  'InterruptedError': InterruptedError,\n",
              "  'PermissionError': PermissionError,\n",
              "  'ProcessLookupError': ProcessLookupError,\n",
              "  'TimeoutError': TimeoutError,\n",
              "  'open': <function io.open(file, mode='r', buffering=-1, encoding=None, errors=None, newline=None, closefd=True, opener=None)>,\n",
              "  'copyright': Copyright (c) 2001-2023 Python Software Foundation.\n",
              "  All Rights Reserved.\n",
              "  \n",
              "  Copyright (c) 2000 BeOpen.com.\n",
              "  All Rights Reserved.\n",
              "  \n",
              "  Copyright (c) 1995-2001 Corporation for National Research Initiatives.\n",
              "  All Rights Reserved.\n",
              "  \n",
              "  Copyright (c) 1991-1995 Stichting Mathematisch Centrum, Amsterdam.\n",
              "  All Rights Reserved.,\n",
              "  'credits':     Thanks to CWI, CNRI, BeOpen.com, Zope Corporation and a cast of thousands\n",
              "      for supporting Python development.  See www.python.org for more information.,\n",
              "  'license': Type license() to see the full license text,\n",
              "  'help': Type help() for interactive help, or help(object) for help about object.,\n",
              "  '__IPYTHON__': True,\n",
              "  'display': <function IPython.core.display.display(*objs, include=None, exclude=None, metadata=None, transient=None, display_id=None, **kwargs)>,\n",
              "  'execfile': <function _pydev_bundle._pydev_execfile.execfile(file, glob=None, loc=None)>,\n",
              "  'runfile': <function _pydev_bundle.pydev_umd.runfile(filename, args=None, wdir=None, namespace=None)>,\n",
              "  'get_ipython': <bound method InteractiveShell.get_ipython of <google.colab._shell.Shell object at 0x7d5fe882de70>>},\n",
              " 'Optional': typing.Optional,\n",
              " 'List': typing.List,\n",
              " 'Union': typing.Union,\n",
              " 'Literal': typing.Literal,\n",
              " 'Classification': edgeimpulse.model.output_type.Classification,\n",
              " 'Regression': edgeimpulse.model.output_type.Regression,\n",
              " 'ObjectDetection': edgeimpulse.model.output_type.ObjectDetection}"
            ]
          },
          "metadata": {},
          "execution_count": 10
        }
      ]
    },
    {
      "cell_type": "markdown",
      "source": [
        "## Inferência"
      ],
      "metadata": {
        "id": "RGawctduTO7Q"
      }
    },
    {
      "cell_type": "code",
      "source": [
        "!npm cache clean -f\n",
        "!npm install -g n\n",
        "!n stable"
      ],
      "metadata": {
        "colab": {
          "base_uri": "https://localhost:8080/"
        },
        "id": "2bX0kvZjTdGY",
        "outputId": "5ff0dd3d-6756-45bf-9aa4-9c199d0f1530"
      },
      "execution_count": 12,
      "outputs": [
        {
          "output_type": "stream",
          "name": "stdout",
          "text": [
            "\u001b[37;40mnpm\u001b[0m \u001b[0m\u001b[30;43mWARN\u001b[0m \u001b[0m\u001b[35musing --force\u001b[0m I sure hope you know what you are doing.\n",
            "\u001b[K\u001b[?25h\n",
            "\u001b[33m\u001b[39m\n",
            "\u001b[33m   ╭────────────────────────────────────────────────────────────────╮\u001b[39m\n",
            "   \u001b[33m│\u001b[39m                                                                \u001b[33m│\u001b[39m\n",
            "   \u001b[33m│\u001b[39m      New \u001b[31mmajor\u001b[39m version of npm available! \u001b[31m6.14.8\u001b[39m → \u001b[32m10.8.1\u001b[39m       \u001b[33m│\u001b[39m\n",
            "   \u001b[33m│\u001b[39m   \u001b[33mChangelog:\u001b[39m \u001b[36mhttps://github.com/npm/cli/releases/tag/v10.8.1\u001b[39m   \u001b[33m│\u001b[39m\n",
            "   \u001b[33m│\u001b[39m               Run \u001b[32mnpm install -g npm\u001b[39m to update!                \u001b[33m│\u001b[39m\n",
            "   \u001b[33m│\u001b[39m                                                                \u001b[33m│\u001b[39m\n",
            "\u001b[33m   ╰────────────────────────────────────────────────────────────────╯\u001b[39m\n",
            "\u001b[33m\u001b[39m\n",
            "\u001b[K\u001b[?25h/tools/node/bin/n -> /tools/node/lib/node_modules/n/bin/n\n",
            "+ n@9.2.3\n",
            "added 1 package from 2 contributors in 0.38s\n",
            "  \u001b[36minstalling\u001b[0m : \u001b[2mnode-v20.14.0\u001b[0m\n",
            "  \u001b[36m     mkdir\u001b[0m : \u001b[2m/usr/local/n/versions/node/20.14.0\u001b[0m\n",
            "  \u001b[36m     fetch\u001b[0m : \u001b[2mhttps://nodejs.org/dist/v20.14.0/node-v20.14.0-linux-x64.tar.xz\u001b[0m\n",
            "############################################################################################# 100.0%\n",
            "\u001b[1A\u001b[2K  \u001b[36m   copying\u001b[0m : \u001b[2mnode/20.14.0\u001b[0m\n",
            "\u001b[1G\u001b[0K  \u001b[36m installed\u001b[0m : \u001b[2mv20.14.0 (with npm 10.7.0)\u001b[0m\n",
            "\n",
            "Note: the node command changed location and the old location may be remembered in your current shell.\n",
            "  \u001b[36m       old\u001b[0m : \u001b[2m/tools/node/bin/node\u001b[0m\n",
            "  \u001b[36m       new\u001b[0m : \u001b[2m/usr/local/bin/node\u001b[0m\n",
            "If \"node --version\" shows the old version then start a new shell, or reset the location hash with:\n",
            "hash -r  (for bash, zsh, ash, dash, and ksh)\n",
            "rehash   (for csh and tcsh)\n"
          ]
        }
      ]
    },
    {
      "cell_type": "code",
      "source": [
        "!wget -O image.jpg https://cropprotectionnetwork.org/image?s=%2Fimg%2Fhttp%2Fgeneral%2FGray-leaf-spot-Adam-Sisson-3-copy.jpg%2Fc88770be462ee2a590120c7e52e5f07f.jpg&h=0&w=448&fit=contain"
      ],
      "metadata": {
        "colab": {
          "base_uri": "https://localhost:8080/"
        },
        "id": "voGEAzuDU91n",
        "outputId": "143a77ec-e1c0-4cbc-ebde-d14e80f72dc3"
      },
      "execution_count": 22,
      "outputs": [
        {
          "output_type": "stream",
          "name": "stdout",
          "text": [
            "--2024-06-03 18:24:10--  https://cropprotectionnetwork.org/image?s=%2Fimg%2Fhttp%2Fgeneral%2FGray-leaf-spot-Adam-Sisson-3-copy.jpg%2Fc88770be462ee2a590120c7e52e5f07f.jpg\n",
            "Resolving cropprotectionnetwork.org (cropprotectionnetwork.org)... 104.131.186.229\n",
            "Connecting to cropprotectionnetwork.org (cropprotectionnetwork.org)|104.131.186.229|:443... connected.\n",
            "HTTP request sent, awaiting response... 200 OK\n",
            "Length: 714850 (698K) [image/jpeg]\n",
            "Saving to: ‘image.jpg’\n",
            "\n",
            "image.jpg           100%[===================>] 698.10K  2.55MB/s    in 0.3s    \n",
            "\n",
            "2024-06-03 18:24:11 (2.55 MB/s) - ‘image.jpg’ saved [714850/714850]\n",
            "\n"
          ]
        }
      ]
    }
  ]
}