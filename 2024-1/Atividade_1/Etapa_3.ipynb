{
 "cells": [
  {
   "cell_type": "markdown",
   "metadata": {},
   "source": [
    "# ECO904 - Atividade 1 - Etapa 3 - Capacidade de Aprendizado sobre a Base"
   ]
  },
  {
   "cell_type": "markdown",
   "metadata": {},
   "source": [
    "[Proposta On-line](https://docs.google.com/document/d/e/2PACX-1vTbH1JBaBWc30jTjL6ECWhNfLF23-Iv9afdu7KL2oVP8WbiDxUewcHaAE5y6dQJVs6heCOiGmyO9fFX/pub)"
   ]
  },
  {
   "cell_type": "markdown",
   "metadata": {},
   "source": [
    "- Incorporar um pipeline no aprendizado;\n",
    "- Utilizar pré-processamento na base de dados;\n",
    "- Reduzir a dimensionalidade da base;\n",
    "- Incorporar a validação cruzada para melhor avaliar as técnicas;\n",
    "- Reavaliar as metodologias e modelos com essa nova abordagem."
   ]
  },
  {
   "cell_type": "code",
   "execution_count": 1,
   "metadata": {},
   "outputs": [
    {
     "data": {
      "text/html": [
       "<div>\n",
       "<style scoped>\n",
       "    .dataframe tbody tr th:only-of-type {\n",
       "        vertical-align: middle;\n",
       "    }\n",
       "\n",
       "    .dataframe tbody tr th {\n",
       "        vertical-align: top;\n",
       "    }\n",
       "\n",
       "    .dataframe thead th {\n",
       "        text-align: right;\n",
       "    }\n",
       "</style>\n",
       "<table border=\"1\" class=\"dataframe\">\n",
       "  <thead>\n",
       "    <tr style=\"text-align: right;\">\n",
       "      <th></th>\n",
       "      <th>dispositivo_1</th>\n",
       "      <th>dispositivo_2</th>\n",
       "      <th>dispositivo_3</th>\n",
       "      <th>dispositivo_4</th>\n",
       "      <th>dispositivo_5</th>\n",
       "      <th>dispositivo_6</th>\n",
       "      <th>dispositivo_7</th>\n",
       "      <th>dispositivo_8</th>\n",
       "      <th>dispositivo_9</th>\n",
       "      <th>dispositivo_10</th>\n",
       "      <th>...</th>\n",
       "      <th>dispositivo_42</th>\n",
       "      <th>dispositivo_43</th>\n",
       "      <th>dispositivo_44</th>\n",
       "      <th>dispositivo_45</th>\n",
       "      <th>dispositivo_46</th>\n",
       "      <th>dispositivo_47</th>\n",
       "      <th>dispositivo_48</th>\n",
       "      <th>dispositivo_49</th>\n",
       "      <th>dispositivo_50</th>\n",
       "      <th>falha</th>\n",
       "    </tr>\n",
       "  </thead>\n",
       "  <tbody>\n",
       "    <tr>\n",
       "      <th>0</th>\n",
       "      <td>48.70</td>\n",
       "      <td>36.58</td>\n",
       "      <td>42.64</td>\n",
       "      <td>51.02</td>\n",
       "      <td>66.17</td>\n",
       "      <td>43.68</td>\n",
       "      <td>51.84</td>\n",
       "      <td>57.06</td>\n",
       "      <td>40.92</td>\n",
       "      <td>33.10</td>\n",
       "      <td>...</td>\n",
       "      <td>42.58</td>\n",
       "      <td>45.03</td>\n",
       "      <td>55.41</td>\n",
       "      <td>56.54</td>\n",
       "      <td>34.13</td>\n",
       "      <td>50.11</td>\n",
       "      <td>49.88</td>\n",
       "      <td>49.82</td>\n",
       "      <td>69.11</td>\n",
       "      <td>0</td>\n",
       "    </tr>\n",
       "    <tr>\n",
       "      <th>1</th>\n",
       "      <td>45.65</td>\n",
       "      <td>69.17</td>\n",
       "      <td>48.58</td>\n",
       "      <td>34.39</td>\n",
       "      <td>42.41</td>\n",
       "      <td>41.61</td>\n",
       "      <td>59.15</td>\n",
       "      <td>55.03</td>\n",
       "      <td>59.03</td>\n",
       "      <td>59.72</td>\n",
       "      <td>...</td>\n",
       "      <td>74.03</td>\n",
       "      <td>48.05</td>\n",
       "      <td>39.78</td>\n",
       "      <td>58.47</td>\n",
       "      <td>63.05</td>\n",
       "      <td>54.80</td>\n",
       "      <td>68.53</td>\n",
       "      <td>45.07</td>\n",
       "      <td>71.07</td>\n",
       "      <td>0</td>\n",
       "    </tr>\n",
       "    <tr>\n",
       "      <th>2</th>\n",
       "      <td>63.11</td>\n",
       "      <td>49.81</td>\n",
       "      <td>38.17</td>\n",
       "      <td>59.98</td>\n",
       "      <td>61.59</td>\n",
       "      <td>59.39</td>\n",
       "      <td>48.50</td>\n",
       "      <td>55.62</td>\n",
       "      <td>52.20</td>\n",
       "      <td>30.47</td>\n",
       "      <td>...</td>\n",
       "      <td>43.08</td>\n",
       "      <td>47.89</td>\n",
       "      <td>32.30</td>\n",
       "      <td>66.46</td>\n",
       "      <td>54.78</td>\n",
       "      <td>60.01</td>\n",
       "      <td>21.40</td>\n",
       "      <td>53.12</td>\n",
       "      <td>50.01</td>\n",
       "      <td>0</td>\n",
       "    </tr>\n",
       "    <tr>\n",
       "      <th>3</th>\n",
       "      <td>28.41</td>\n",
       "      <td>38.22</td>\n",
       "      <td>43.15</td>\n",
       "      <td>39.12</td>\n",
       "      <td>58.32</td>\n",
       "      <td>71.58</td>\n",
       "      <td>36.61</td>\n",
       "      <td>45.84</td>\n",
       "      <td>35.68</td>\n",
       "      <td>45.38</td>\n",
       "      <td>...</td>\n",
       "      <td>58.20</td>\n",
       "      <td>55.04</td>\n",
       "      <td>36.48</td>\n",
       "      <td>52.88</td>\n",
       "      <td>54.85</td>\n",
       "      <td>66.86</td>\n",
       "      <td>50.58</td>\n",
       "      <td>58.64</td>\n",
       "      <td>53.66</td>\n",
       "      <td>0</td>\n",
       "    </tr>\n",
       "    <tr>\n",
       "      <th>4</th>\n",
       "      <td>64.94</td>\n",
       "      <td>49.23</td>\n",
       "      <td>63.78</td>\n",
       "      <td>54.09</td>\n",
       "      <td>53.86</td>\n",
       "      <td>66.00</td>\n",
       "      <td>36.42</td>\n",
       "      <td>23.26</td>\n",
       "      <td>46.84</td>\n",
       "      <td>57.69</td>\n",
       "      <td>...</td>\n",
       "      <td>55.68</td>\n",
       "      <td>57.47</td>\n",
       "      <td>42.40</td>\n",
       "      <td>49.21</td>\n",
       "      <td>52.69</td>\n",
       "      <td>66.94</td>\n",
       "      <td>55.73</td>\n",
       "      <td>38.38</td>\n",
       "      <td>38.92</td>\n",
       "      <td>1</td>\n",
       "    </tr>\n",
       "  </tbody>\n",
       "</table>\n",
       "<p>5 rows × 51 columns</p>\n",
       "</div>"
      ],
      "text/plain": [
       "   dispositivo_1  dispositivo_2  dispositivo_3  dispositivo_4  dispositivo_5  \\\n",
       "0          48.70          36.58          42.64          51.02          66.17   \n",
       "1          45.65          69.17          48.58          34.39          42.41   \n",
       "2          63.11          49.81          38.17          59.98          61.59   \n",
       "3          28.41          38.22          43.15          39.12          58.32   \n",
       "4          64.94          49.23          63.78          54.09          53.86   \n",
       "\n",
       "   dispositivo_6  dispositivo_7  dispositivo_8  dispositivo_9  dispositivo_10  \\\n",
       "0          43.68          51.84          57.06          40.92           33.10   \n",
       "1          41.61          59.15          55.03          59.03           59.72   \n",
       "2          59.39          48.50          55.62          52.20           30.47   \n",
       "3          71.58          36.61          45.84          35.68           45.38   \n",
       "4          66.00          36.42          23.26          46.84           57.69   \n",
       "\n",
       "   ...  dispositivo_42  dispositivo_43  dispositivo_44  dispositivo_45  \\\n",
       "0  ...           42.58           45.03           55.41           56.54   \n",
       "1  ...           74.03           48.05           39.78           58.47   \n",
       "2  ...           43.08           47.89           32.30           66.46   \n",
       "3  ...           58.20           55.04           36.48           52.88   \n",
       "4  ...           55.68           57.47           42.40           49.21   \n",
       "\n",
       "   dispositivo_46  dispositivo_47  dispositivo_48  dispositivo_49  \\\n",
       "0           34.13           50.11           49.88           49.82   \n",
       "1           63.05           54.80           68.53           45.07   \n",
       "2           54.78           60.01           21.40           53.12   \n",
       "3           54.85           66.86           50.58           58.64   \n",
       "4           52.69           66.94           55.73           38.38   \n",
       "\n",
       "   dispositivo_50  falha  \n",
       "0           69.11      0  \n",
       "1           71.07      0  \n",
       "2           50.01      0  \n",
       "3           53.66      0  \n",
       "4           38.92      1  \n",
       "\n",
       "[5 rows x 51 columns]"
      ]
     },
     "execution_count": 1,
     "metadata": {},
     "output_type": "execute_result"
    }
   ],
   "source": [
    "import pandas as pd\n",
    "df = pd.read_csv('base_filtrada.csv')\n",
    "df.head()"
   ]
  },
  {
   "cell_type": "code",
   "execution_count": 4,
   "metadata": {},
   "outputs": [
    {
     "data": {
      "text/plain": [
       "((6912, 50), (131328, 50), (6912,), (131328,))"
      ]
     },
     "execution_count": 4,
     "metadata": {},
     "output_type": "execute_result"
    }
   ],
   "source": [
    "from sklearn.model_selection import train_test_split\n",
    "\n",
    "X = df.drop('falha', axis=1).values\n",
    "y = df['falha'].values\n",
    "\n",
    "X_train, X_test, y_train, y_test = train_test_split(X, y, test_size=0.95, random_state=42)\n",
    "\n",
    "X_train.shape, X_test.shape, y_train.shape, y_test.shape"
   ]
  },
  {
   "cell_type": "markdown",
   "metadata": {},
   "source": [
    "## Incorporar um pipeline no aprendizado"
   ]
  },
  {
   "cell_type": "code",
   "execution_count": 11,
   "metadata": {},
   "outputs": [],
   "source": [
    "from sklearn.pipeline import Pipeline"
   ]
  },
  {
   "cell_type": "markdown",
   "metadata": {},
   "source": [
    "## Utilizar pré-processamento na base de dados e Reduzir a dimensionalidade da base;"
   ]
  },
  {
   "cell_type": "code",
   "execution_count": 6,
   "metadata": {},
   "outputs": [],
   "source": [
    "from sklearn.preprocessing import StandardScaler, MinMaxScaler\n",
    "from sklearn.decomposition import PCA, TruncatedSVD"
   ]
  },
  {
   "cell_type": "markdown",
   "metadata": {},
   "source": [
    "# Incorporar a validação cruzada para melhor avaliar as técnicas"
   ]
  },
  {
   "cell_type": "code",
   "execution_count": 7,
   "metadata": {},
   "outputs": [],
   "source": [
    "from sklearn.model_selection import cross_validate"
   ]
  },
  {
   "cell_type": "code",
   "execution_count": 12,
   "metadata": {},
   "outputs": [
    {
     "name": "stderr",
     "output_type": "stream",
     "text": [
      " 13%|█▎        | 7/54 [00:18<02:13,  2.85s/it]"
     ]
    }
   ],
   "source": [
    "from sklearn.ensemble import RandomForestClassifier\n",
    "from sklearn.tree import DecisionTreeClassifier\n",
    "from sklearn.svm import SVC\n",
    "from sklearn.linear_model import LogisticRegression\n",
    "from sklearn.neural_network import MLPClassifier\n",
    "from sklearn.dummy import DummyClassifier\n",
    "import numpy as np\n",
    "from tqdm import tqdm\n",
    "\n",
    "prepros = [\n",
    "    None,\n",
    "    StandardScaler(),\n",
    "    MinMaxScaler(),\n",
    "]\n",
    "\n",
    "redutores = [\n",
    "    None,\n",
    "    PCA(random_state=42),\n",
    "    TruncatedSVD(random_state=42),\n",
    "]\n",
    "\n",
    "aprendizados = [\n",
    "    RandomForestClassifier(random_state=42),\n",
    "    DecisionTreeClassifier(random_state=42),\n",
    "    SVC(random_state=42),\n",
    "    LogisticRegression(random_state=42),\n",
    "    MLPClassifier(random_state=42),\n",
    "    DummyClassifier(random_state=42),\n",
    "]\n",
    "\n",
    "resultados = []\n",
    "for pp, red, ap in tqdm([(pp, red, ap) for pp in prepros for red in redutores for ap in aprendizados]):\n",
    "\n",
    "    steps = []\n",
    "    if pp is not None:\n",
    "        steps.append((pp.__class__.__name__, pp))\n",
    "    if red is not None:\n",
    "        steps.append((red.__class__.__name__, red))\n",
    "    steps.append((ap.__class__.__name__, ap))\n",
    "\n",
    "    pipe = Pipeline(steps)\n",
    "\n",
    "    cv = cross_validate(pipe, X_train, y_train, cv=5, scoring=['accuracy', 'f1'], n_jobs=-1)\n",
    "    res = {\n",
    "        'preprocessamento': pp.__class__.__name__,\n",
    "        'reducao': red.__class__.__name__,\n",
    "        'aprendizado': ap.__class__.__name__,\n",
    "        'acuracia': np.mean(cv['test_accuracy']),\n",
    "        'f1': np.mean(cv['test_f1']),\n",
    "    }\n",
    "    resultados.append(res)\n",
    "\n",
    "df_res = pd.DataFrame(resultados)\n",
    "# Ordenar decrescente os melhores modelos avaliados pelas métricas\n",
    "df_res.sort_values('f1', ascending=False)"
   ]
  }
 ],
 "metadata": {
  "kernelspec": {
   "display_name": ".venv",
   "language": "python",
   "name": "python3"
  },
  "language_info": {
   "codemirror_mode": {
    "name": "ipython",
    "version": 3
   },
   "file_extension": ".py",
   "mimetype": "text/x-python",
   "name": "python",
   "nbconvert_exporter": "python",
   "pygments_lexer": "ipython3",
   "version": "3.10.11"
  }
 },
 "nbformat": 4,
 "nbformat_minor": 2
}
