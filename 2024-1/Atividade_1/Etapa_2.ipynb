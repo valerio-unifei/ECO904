{
 "cells": [
  {
   "cell_type": "markdown",
   "metadata": {},
   "source": [
    "# ECO904 - Atividade 1 - Etapa 2 - Capacidade de Aprendizado sobre a Base"
   ]
  },
  {
   "cell_type": "markdown",
   "metadata": {},
   "source": [
    "- Utilizar a base de dados filtrada da etapa 1;\n",
    "- Separar o conjunto de dados em treinamento e testes;\n",
    "- Utilizar 10 metodologias de aprendizado classificador na base de dados;\n",
    "- Avaliar os resultados com métricas recomendadas com o problema\n",
    "- Ordenar decrescente os melhores modelos avaliados pelas métricas;"
   ]
  },
  {
   "cell_type": "markdown",
   "metadata": {},
   "source": [
    "## Utilizar a base de dados filtrada da etapa 1"
   ]
  },
  {
   "cell_type": "code",
   "execution_count": 1,
   "metadata": {},
   "outputs": [
    {
     "name": "stdout",
     "output_type": "stream",
     "text": [
      "<class 'pandas.core.frame.DataFrame'>\n",
      "RangeIndex: 138240 entries, 0 to 138239\n",
      "Data columns (total 51 columns):\n",
      " #   Column          Non-Null Count   Dtype  \n",
      "---  ------          --------------   -----  \n",
      " 0   dispositivo_1   138240 non-null  float64\n",
      " 1   dispositivo_2   138240 non-null  float64\n",
      " 2   dispositivo_3   138240 non-null  float64\n",
      " 3   dispositivo_4   138240 non-null  float64\n",
      " 4   dispositivo_5   138240 non-null  float64\n",
      " 5   dispositivo_6   138240 non-null  float64\n",
      " 6   dispositivo_7   138240 non-null  float64\n",
      " 7   dispositivo_8   138240 non-null  float64\n",
      " 8   dispositivo_9   138240 non-null  float64\n",
      " 9   dispositivo_10  138240 non-null  float64\n",
      " 10  dispositivo_11  138240 non-null  float64\n",
      " 11  dispositivo_12  138240 non-null  float64\n",
      " 12  dispositivo_13  138240 non-null  float64\n",
      " 13  dispositivo_14  138240 non-null  float64\n",
      " 14  dispositivo_15  138240 non-null  float64\n",
      " 15  dispositivo_16  138240 non-null  float64\n",
      " 16  dispositivo_17  138240 non-null  float64\n",
      " 17  dispositivo_18  138240 non-null  float64\n",
      " 18  dispositivo_19  138240 non-null  float64\n",
      " 19  dispositivo_20  138240 non-null  float64\n",
      " 20  dispositivo_21  138240 non-null  float64\n",
      " 21  dispositivo_22  138240 non-null  float64\n",
      " 22  dispositivo_23  138240 non-null  float64\n",
      " 23  dispositivo_24  138240 non-null  float64\n",
      " 24  dispositivo_25  138240 non-null  float64\n",
      " 25  dispositivo_26  138240 non-null  float64\n",
      " 26  dispositivo_27  138240 non-null  float64\n",
      " 27  dispositivo_28  138240 non-null  float64\n",
      " 28  dispositivo_29  138240 non-null  float64\n",
      " 29  dispositivo_30  138240 non-null  float64\n",
      " 30  dispositivo_31  138240 non-null  float64\n",
      " 31  dispositivo_32  138240 non-null  float64\n",
      " 32  dispositivo_33  138240 non-null  float64\n",
      " 33  dispositivo_34  138240 non-null  float64\n",
      " 34  dispositivo_35  138240 non-null  float64\n",
      " 35  dispositivo_36  138240 non-null  float64\n",
      " 36  dispositivo_37  138240 non-null  float64\n",
      " 37  dispositivo_38  138240 non-null  float64\n",
      " 38  dispositivo_39  138240 non-null  float64\n",
      " 39  dispositivo_40  138240 non-null  float64\n",
      " 40  dispositivo_41  138240 non-null  float64\n",
      " 41  dispositivo_42  138240 non-null  float64\n",
      " 42  dispositivo_43  138240 non-null  float64\n",
      " 43  dispositivo_44  138240 non-null  float64\n",
      " 44  dispositivo_45  138240 non-null  float64\n",
      " 45  dispositivo_46  138240 non-null  float64\n",
      " 46  dispositivo_47  138240 non-null  float64\n",
      " 47  dispositivo_48  138240 non-null  float64\n",
      " 48  dispositivo_49  138240 non-null  float64\n",
      " 49  dispositivo_50  138240 non-null  float64\n",
      " 50  falha           138240 non-null  int64  \n",
      "dtypes: float64(50), int64(1)\n",
      "memory usage: 53.8 MB\n"
     ]
    }
   ],
   "source": [
    "import pandas as pd\n",
    "\n",
    "df = pd.read_csv('base_filtrada.csv')\n",
    "df.info()"
   ]
  },
  {
   "cell_type": "markdown",
   "metadata": {},
   "source": [
    "## Separar o conjunto de dados em treinamento e testes"
   ]
  },
  {
   "cell_type": "code",
   "execution_count": 14,
   "metadata": {},
   "outputs": [
    {
     "data": {
      "text/plain": [
       "((6912, 50), (131328, 50), (6912,), (131328,))"
      ]
     },
     "execution_count": 14,
     "metadata": {},
     "output_type": "execute_result"
    }
   ],
   "source": [
    "from sklearn.model_selection import train_test_split\n",
    "\n",
    "X = df.drop('falha', axis=1).values\n",
    "y = df['falha'].values\n",
    "\n",
    "X_train, X_test, y_train, y_test = train_test_split(X, y, test_size=0.95, random_state=42)\n",
    "\n",
    "X_train.shape, X_test.shape, y_train.shape, y_test.shape"
   ]
  },
  {
   "cell_type": "markdown",
   "metadata": {},
   "source": [
    "## Utilizar 10 metodologias de aprendizado classificador na base de dados"
   ]
  },
  {
   "cell_type": "code",
   "execution_count": 17,
   "metadata": {},
   "outputs": [
    {
     "data": {
      "text/html": [
       "<div>\n",
       "<style scoped>\n",
       "    .dataframe tbody tr th:only-of-type {\n",
       "        vertical-align: middle;\n",
       "    }\n",
       "\n",
       "    .dataframe tbody tr th {\n",
       "        vertical-align: top;\n",
       "    }\n",
       "\n",
       "    .dataframe thead th {\n",
       "        text-align: right;\n",
       "    }\n",
       "</style>\n",
       "<table border=\"1\" class=\"dataframe\">\n",
       "  <thead>\n",
       "    <tr style=\"text-align: right;\">\n",
       "      <th></th>\n",
       "      <th>técnica</th>\n",
       "      <th>acurácia</th>\n",
       "      <th>f1</th>\n",
       "      <th>tempo</th>\n",
       "    </tr>\n",
       "  </thead>\n",
       "  <tbody>\n",
       "    <tr>\n",
       "      <th>0</th>\n",
       "      <td>RandomForestClassifier</td>\n",
       "      <td>0.854106</td>\n",
       "      <td>0.849188</td>\n",
       "      <td>5.697500</td>\n",
       "    </tr>\n",
       "    <tr>\n",
       "      <th>2</th>\n",
       "      <td>SVC</td>\n",
       "      <td>0.821211</td>\n",
       "      <td>0.815255</td>\n",
       "      <td>2.578318</td>\n",
       "    </tr>\n",
       "    <tr>\n",
       "      <th>1</th>\n",
       "      <td>DecisionTreeClassifier</td>\n",
       "      <td>0.758109</td>\n",
       "      <td>0.757724</td>\n",
       "      <td>0.605652</td>\n",
       "    </tr>\n",
       "    <tr>\n",
       "      <th>4</th>\n",
       "      <td>MLPClassifier</td>\n",
       "      <td>0.715278</td>\n",
       "      <td>0.747242</td>\n",
       "      <td>1.099941</td>\n",
       "    </tr>\n",
       "    <tr>\n",
       "      <th>3</th>\n",
       "      <td>LogisticRegression</td>\n",
       "      <td>0.741434</td>\n",
       "      <td>0.740729</td>\n",
       "      <td>0.046843</td>\n",
       "    </tr>\n",
       "    <tr>\n",
       "      <th>5</th>\n",
       "      <td>DummyClassifier</td>\n",
       "      <td>0.499764</td>\n",
       "      <td>0.000000</td>\n",
       "      <td>0.000000</td>\n",
       "    </tr>\n",
       "  </tbody>\n",
       "</table>\n",
       "</div>"
      ],
      "text/plain": [
       "                  técnica  acurácia        f1     tempo\n",
       "0  RandomForestClassifier  0.854106  0.849188  5.697500\n",
       "2                     SVC  0.821211  0.815255  2.578318\n",
       "1  DecisionTreeClassifier  0.758109  0.757724  0.605652\n",
       "4           MLPClassifier  0.715278  0.747242  1.099941\n",
       "3      LogisticRegression  0.741434  0.740729  0.046843\n",
       "5         DummyClassifier  0.499764  0.000000  0.000000"
      ]
     },
     "execution_count": 17,
     "metadata": {},
     "output_type": "execute_result"
    }
   ],
   "source": [
    "from sklearn.ensemble import RandomForestClassifier\n",
    "from sklearn.tree import DecisionTreeClassifier\n",
    "from sklearn.svm import SVC\n",
    "from sklearn.linear_model import LogisticRegression\n",
    "from sklearn.neural_network import MLPClassifier\n",
    "from sklearn.dummy import DummyClassifier\n",
    "from sklearn.metrics import accuracy_score, f1_score\n",
    "from joblib import Parallel, delayed\n",
    "import time\n",
    "\n",
    "classifiers = [\n",
    "    RandomForestClassifier(random_state=42),\n",
    "    DecisionTreeClassifier(random_state=42),\n",
    "    SVC(random_state=42),\n",
    "    LogisticRegression(random_state=42),\n",
    "    MLPClassifier(random_state=42),\n",
    "    DummyClassifier(random_state=42),\n",
    "]\n",
    "\n",
    "def fit_classifier(classifier, X_train, X_test, y_train, y_test):\n",
    "    t0 = time.time()\n",
    "    classifier.fit(X_train, y_train)\n",
    "    tempo = time.time() - t0\n",
    "    y_pred = classifier.predict(X_test)\n",
    "    # Avaliar os resultados com métricas recomendadas com o problema\n",
    "    accuracy = accuracy_score(y_test, y_pred)\n",
    "    f1 = f1_score(y_test, y_pred)\n",
    "    return {'técnica': classifier.__class__.__name__, 'acurácia': accuracy, 'f1': f1, 'tempo': tempo}\n",
    "\n",
    "resultados = []\n",
    "resultados = Parallel(n_jobs=-1)(delayed(fit_classifier)(c, X_train, X_test, y_train, y_test) for c in classifiers)\n",
    "\n",
    "dfr = pd.DataFrame(resultados)\n",
    "# Ordenar decrescente os melhores modelos avaliados pelas métricas\n",
    "dfr.sort_values('f1', ascending=False)\n"
   ]
  }
 ],
 "metadata": {
  "kernelspec": {
   "display_name": ".venv",
   "language": "python",
   "name": "python3"
  },
  "language_info": {
   "codemirror_mode": {
    "name": "ipython",
    "version": 3
   },
   "file_extension": ".py",
   "mimetype": "text/x-python",
   "name": "python",
   "nbconvert_exporter": "python",
   "pygments_lexer": "ipython3",
   "version": "3.10.11"
  }
 },
 "nbformat": 4,
 "nbformat_minor": 2
}
